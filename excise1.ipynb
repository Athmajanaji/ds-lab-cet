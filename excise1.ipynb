{
 "cells": [
  {
   "cell_type": "code",
   "execution_count": 5,
   "id": "0edb3c35",
   "metadata": {},
   "outputs": [
    {
     "name": "stdout",
     "output_type": "stream",
     "text": [
      "Greater\n",
      "[False False False  True  True]\n",
      "Greater_Equal\n",
      "[False False  True  True  True]\n",
      "Less\n",
      "[ True  True False False False]\n",
      "Less_eqaul\n",
      "[ True  True  True False False]\n"
     ]
    }
   ],
   "source": [
    "#1 write a NumPy program to create a element-wise comparison(greater,greater_equal,less and less_equal) of two given arrays.\n",
    "import numpy as np\n",
    "x=np.array([4,5,7,8,9])\n",
    "y=np.array([5,9,7,5,3])\n",
    "print(\"Greater\")\n",
    "print(np.greater(x,y))\n",
    "print('Greater_Equal')\n",
    "print(np.greater_equal(x,y))\n",
    "print('Less')\n",
    "print(np.less(x,y))\n",
    "print('Less_eqaul')\n",
    "print(np.less_equal(x,y))\n"
   ]
  },
  {
   "cell_type": "code",
   "execution_count": 8,
   "id": "5de07564",
   "metadata": {},
   "outputs": [
    {
     "name": "stdout",
     "output_type": "stream",
     "text": [
      "[30 32 34 36 38 40 42 44 46 48 50 52 54 56 58 60 62 64 66 68 70]\n"
     ]
    }
   ],
   "source": [
    "#2 write a Numpy program to create an array of all the even integers from 30 to 70.\n",
    "import numpy as np\n",
    "x=np.arange(30,71,2)\n",
    "print(x)"
   ]
  },
  {
   "cell_type": "code",
   "execution_count": 10,
   "id": "46a75e36",
   "metadata": {},
   "outputs": [
    {
     "name": "stdout",
     "output_type": "stream",
     "text": [
      "[[1. 0. 0.]\n",
      " [0. 1. 0.]\n",
      " [0. 0. 1.]]\n"
     ]
    }
   ],
   "source": [
    "#3 write a Numpy program to create a 3x3 identity matrix.\n",
    "import numpy as np\n",
    "x=np.identity(3)\n",
    "print(x)"
   ]
  },
  {
   "cell_type": "code",
   "execution_count": 16,
   "id": "308e5314",
   "metadata": {},
   "outputs": [
    {
     "name": "stdout",
     "output_type": "stream",
     "text": [
      "Before\n",
      "[ 0  1  2  3  4  5  6  7  8  9 10 11 12 13 14 15 16 17 18 19 20]\n",
      "After\n",
      "[  0   1   2   3   4   5   6   7   8  -9 -10 -11 -12 -13 -14 -15  16  17\n",
      "  18  19  20]\n"
     ]
    }
   ],
   "source": [
    "#4 write a numpy program to create a vector with values from 0 to 20 and change the sign of the numbers in the range from 9 to 15.\n",
    "import numpy as np\n",
    "x=np.arange(0,21)\n",
    "print('Before')\n",
    "print(x)\n",
    "x[(x>=9) & (x<=15)]*=-1\n",
    "print('After')\n",
    "print(x)\n",
    "\n"
   ]
  },
  {
   "cell_type": "code",
   "execution_count": 23,
   "id": "b695ef37",
   "metadata": {},
   "outputs": [
    {
     "name": "stdout",
     "output_type": "stream",
     "text": [
      "[[1 0 0 0 0]\n",
      " [0 2 0 0 0]\n",
      " [0 0 3 0 0]\n",
      " [0 0 0 4 0]\n",
      " [0 0 0 0 5]]\n"
     ]
    }
   ],
   "source": [
    "#5 write a numpy program to create a 5x5 zero matrix with elements on the main diagonal equal to 1,2,3,4,5.\n",
    "import numpy as np\n",
    "x=np.arange(1,6)\n",
    "y=np.diag(x)\n",
    "print(y)"
   ]
  },
  {
   "cell_type": "code",
   "execution_count": 32,
   "id": "2e2b72ec",
   "metadata": {},
   "outputs": [
    {
     "name": "stdout",
     "output_type": "stream",
     "text": [
      "[[1 2 3]\n",
      " [4 5 6]\n",
      " [7 8 9]]\n",
      " total sum\n",
      "45\n",
      "sum of each column\n",
      "[[12 15 18]]\n",
      "sum of each row\n",
      "[[ 6]\n",
      " [15]\n",
      " [24]]\n"
     ]
    }
   ],
   "source": [
    "#6 write a numpy program to compute sum of all elements,sum of each column and sum of each row of a given array.\n",
    "import numpy as np\n",
    "x=np.matrix('1 2 3; 4 5 6;7 8 9')\n",
    "print(x)\n",
    "print(' total sum')\n",
    "print(x.sum())\n",
    "print('sum of each column')\n",
    "print(np.sum(x,axis=0))\n",
    "print('sum of each row')\n",
    "print(np.sum(x,axis=1))"
   ]
  },
  {
   "cell_type": "code",
   "execution_count": null,
   "id": "291b00b0",
   "metadata": {},
   "outputs": [],
   "source": []
  },
  {
   "cell_type": "code",
   "execution_count": 38,
   "id": "7df1813d",
   "metadata": {},
   "outputs": [
    {
     "name": "stdout",
     "output_type": "stream",
     "text": [
      "original array\n",
      "[[1 2 3]\n",
      " [4 5 6]\n",
      " [7 8 9]]\n",
      "After loading text\n",
      "[[1. 2. 3.]\n",
      " [4. 5. 6.]\n",
      " [7. 8. 9.]]\n"
     ]
    }
   ],
   "source": [
    "#7 write a numpy program to save a given array to a text file and load it.\n",
    "import numpy as np\n",
    "x=np.arange(1,10).reshape(3,3)\n",
    "print('original array')\n",
    "print(x)\n",
    "header='col1 col2 col3'\n",
    "np.savetxt(\"temp.txt\",x,fmt=\"%d\",header=header)\n",
    "print(\"After loading text\")\n",
    "result=np.loadtxt('temp.txt')\n",
    "print(result)\n",
    "\n",
    "\n"
   ]
  },
  {
   "cell_type": "code",
   "execution_count": 40,
   "id": "881947d8",
   "metadata": {},
   "outputs": [
    {
     "name": "stdout",
     "output_type": "stream",
     "text": [
      "[[ True False  True]\n",
      " [ True False False]\n",
      " [ True False False]]\n"
     ]
    }
   ],
   "source": [
    "#8 write a numpy program to check whether two arrays are equal(element wise) or not.\n",
    "import numpy as np\n",
    "x=np.matrix('4 5 6;7 8 9;2 2 3')\n",
    "y=np.matrix('4 8 6;7 9 8;2 3 2')\n",
    "print(np.equal(x,y))"
   ]
  },
  {
   "cell_type": "code",
   "execution_count": 45,
   "id": "e1157edf",
   "metadata": {},
   "outputs": [
    {
     "name": "stdout",
     "output_type": "stream",
     "text": [
      "Before swapping\n",
      "[[ 0  1  2  3]\n",
      " [ 4  5  6  7]\n",
      " [ 8  9 10 11]\n",
      " [12 13 14 15]]\n",
      "After Swapping\n",
      "[[12 13 14 15]\n",
      " [ 4  5  6  7]\n",
      " [ 8  9 10 11]\n",
      " [ 0  1  2  3]]\n"
     ]
    }
   ],
   "source": [
    "#9 write a numpy program to create a 4x4 array with random values, now create a new array from the said array swapping first and last rows\n",
    "x=np.arange(16).reshape(4,4)\n",
    "print('Before swapping')\n",
    "print(x)\n",
    "x[[0,-1],:]=x[[-1,0],:]\n",
    "print('After Swapping')\n",
    "print(x)"
   ]
  },
  {
   "cell_type": "code",
   "execution_count": 6,
   "id": "f8e781ce",
   "metadata": {},
   "outputs": [
    {
     "name": "stdout",
     "output_type": "stream",
     "text": [
      "[28 40 54 49]\n"
     ]
    }
   ],
   "source": [
    "#10 write a numpy program to multiply two given arrays of same size element by element.\n",
    "import numpy as np\n",
    "x=np.array([4,5,6,7])\n",
    "y=np.array([7,8,9,7])\n",
    "print(np.multiply(x,y))"
   ]
  },
  {
   "cell_type": "code",
   "execution_count": null,
   "id": "d84313cc",
   "metadata": {},
   "outputs": [],
   "source": []
  }
 ],
 "metadata": {
  "kernelspec": {
   "display_name": "Python 3",
   "language": "python",
   "name": "python3"
  },
  "language_info": {
   "codemirror_mode": {
    "name": "ipython",
    "version": 3
   },
   "file_extension": ".py",
   "mimetype": "text/x-python",
   "name": "python",
   "nbconvert_exporter": "python",
   "pygments_lexer": "ipython3",
   "version": "3.5.6"
  }
 },
 "nbformat": 4,
 "nbformat_minor": 5
}
